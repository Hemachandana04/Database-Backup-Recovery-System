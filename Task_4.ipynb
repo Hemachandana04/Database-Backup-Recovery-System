{
  "nbformat": 4,
  "nbformat_minor": 0,
  "metadata": {
    "colab": {
      "provenance": []
    },
    "kernelspec": {
      "name": "python3",
      "display_name": "Python 3"
    },
    "language_info": {
      "name": "python"
    }
  },
  "cells": [
    {
      "cell_type": "code",
      "source": [
        "import sqlite3\n",
        "import shutil\n",
        "import os"
      ],
      "metadata": {
        "id": "aVh0Cy5nPWiM"
      },
      "execution_count": 13,
      "outputs": []
    },
    {
      "cell_type": "code",
      "source": [
        "# create database\n",
        "db_file = \"/content/hollywood.db\"\n",
        "conn = sqlite3.connect(db_file)\n",
        "cur = conn.cursor()"
      ],
      "metadata": {
        "id": "u_garKfiPaSm"
      },
      "execution_count": 14,
      "outputs": []
    },
    {
      "cell_type": "code",
      "source": [
        "# create tables\n",
        "cur.execute(\"\"\"\n",
        "CREATE TABLE IF NOT EXISTS Movies (\n",
        "    movie_id INTEGER PRIMARY KEY AUTOINCREMENT,\n",
        "    title TEXT NOT NULL,\n",
        "    release_year INTEGER,\n",
        "    genre TEXT,\n",
        "    box_office_million REAL\n",
        ");\n",
        "\"\"\")\n",
        "\n",
        "cur.execute(\"\"\"\n",
        "CREATE TABLE IF NOT EXISTS Actors (\n",
        "    actor_id INTEGER PRIMARY KEY AUTOINCREMENT,\n",
        "    name TEXT NOT NULL,\n",
        "    birth_year INTEGER\n",
        ");\n",
        "\"\"\")\n",
        "\n",
        "cur.execute(\"\"\"\n",
        "CREATE TABLE IF NOT EXISTS Directors (\n",
        "    director_id INTEGER PRIMARY KEY AUTOINCREMENT,\n",
        "    name TEXT NOT NULL,\n",
        "    birth_year INTEGER\n",
        ");\n",
        "\"\"\")\n",
        "\n",
        "cur.execute(\"\"\"\n",
        "CREATE TABLE IF NOT EXISTS Movie_Actors (\n",
        "    movie_id INTEGER,\n",
        "    actor_id INTEGER,\n",
        "    role TEXT,\n",
        "    PRIMARY KEY (movie_id, actor_id),\n",
        "    FOREIGN KEY (movie_id) REFERENCES Movies(movie_id),\n",
        "    FOREIGN KEY (actor_id) REFERENCES Actors(actor_id)\n",
        ");\n",
        "\"\"\")\n",
        "\n",
        "cur.execute(\"\"\"\n",
        "CREATE TABLE IF NOT EXISTS Movie_Directors (\n",
        "    movie_id INTEGER,\n",
        "    director_id INTEGER,\n",
        "    PRIMARY KEY (movie_id, director_id),\n",
        "    FOREIGN KEY (movie_id) REFERENCES Movies(movie_id),\n",
        "    FOREIGN KEY (director_id) REFERENCES Directors(director_id)\n",
        ");\n",
        "\"\"\")\n",
        "conn.commit()"
      ],
      "metadata": {
        "id": "EK4RJ3tCPhrx"
      },
      "execution_count": 15,
      "outputs": []
    },
    {
      "cell_type": "code",
      "source": [
        "\n",
        "\n",
        "tables_to_clear = [\"Movie_Actors\", \"Movie_Directors\", \"Movies\", \"Actors\", \"Directors\"]\n",
        "for table in tables_to_clear:\n",
        "    cur.execute(f\"DELETE FROM {table};\")\n",
        "conn.commit()\n",
        "\n"
      ],
      "metadata": {
        "id": "APaJg8WYPt6e"
      },
      "execution_count": 16,
      "outputs": []
    },
    {
      "cell_type": "code",
      "source": [
        "# insert sample data\n",
        "movies = [\n",
        "    ('Avengers: Endgame', 2019, 'Action', 2798),\n",
        "    ('Inception', 2010, 'Sci-Fi', 829),\n",
        "    ('Titanic', 1997, 'Romance', 2187),\n",
        "    ('The Dark Knight', 2008, 'Action', 1005),\n",
        "    ('Avatar', 2009, 'Sci-Fi', 2847)\n",
        "]\n",
        "\n",
        "actors = [\n",
        "    ('Robert Downey Jr.', 1965),\n",
        "    ('Chris Evans', 1981),\n",
        "    ('Leonardo DiCaprio', 1974),\n",
        "    ('Kate Winslet', 1975),\n",
        "    ('Christian Bale', 1974)\n",
        "]\n",
        "\n",
        "directors = [\n",
        "    ('Anthony Russo', 1970),\n",
        "    ('Joe Russo', 1971),\n",
        "    ('Christopher Nolan', 1970),\n",
        "    ('James Cameron', 1954)\n",
        "]\n",
        "\n",
        "movie_actors = [\n",
        "    (1, 1, 'Iron Man'),\n",
        "    (1, 2, 'Captain America'),\n",
        "    (2, 3, 'Dom Cobb'),\n",
        "    (3, 3, 'Jack Dawson'),\n",
        "    (3, 4, 'Rose DeWitt'),\n",
        "    (4, 5, 'Bruce Wayne'),\n",
        "    (5, 3, 'Jake Sully')\n",
        "]\n",
        "\n",
        "movie_directors = [\n",
        "    (1, 1),\n",
        "    (1, 2),\n",
        "    (2, 3),\n",
        "    (3, 4),\n",
        "    (4, 3),\n",
        "    (5, 4)\n",
        "]\n",
        "\n",
        "cur.executemany(\"INSERT INTO Movies (title, release_year, genre, box_office_million) VALUES (?, ?, ?, ?);\", movies)\n",
        "cur.executemany(\"INSERT INTO Actors (name, birth_year) VALUES (?, ?);\", actors)\n",
        "cur.executemany(\"INSERT INTO Directors (name, birth_year) VALUES (?, ?);\", directors)\n",
        "cur.executemany(\"INSERT OR IGNORE INTO Movie_Actors (movie_id, actor_id, role) VALUES (?, ?, ?);\", movie_actors)\n",
        "cur.executemany(\"INSERT OR IGNORE INTO Movie_Directors (movie_id, director_id) VALUES (?, ?);\", movie_directors)\n",
        "\n",
        "conn.commit()"
      ],
      "metadata": {
        "id": "Qe-FQmfFQhcq"
      },
      "execution_count": 17,
      "outputs": []
    },
    {
      "cell_type": "code",
      "source": [
        "tables = [\"Movies\", \"Actors\", \"Directors\", \"Movie_Actors\", \"Movie_Directors\"]\n",
        "\n",
        "for table in tables:\n",
        "    print(f\"=== {table} ===\")\n",
        "    for row in cur.execute(f\"SELECT * FROM {table};\"):\n",
        "        print(row)\n",
        "    print(\"\\n\")"
      ],
      "metadata": {
        "colab": {
          "base_uri": "https://localhost:8080/"
        },
        "id": "-a4N54jyQpxJ",
        "outputId": "0401ed46-66f4-4fa4-ac56-2ab81d02179b"
      },
      "execution_count": 18,
      "outputs": [
        {
          "output_type": "stream",
          "name": "stdout",
          "text": [
            "=== Movies ===\n",
            "(16, 'Avengers: Endgame', 2019, 'Action', 2798.0)\n",
            "(17, 'Inception', 2010, 'Sci-Fi', 829.0)\n",
            "(18, 'Titanic', 1997, 'Romance', 2187.0)\n",
            "(19, 'The Dark Knight', 2008, 'Action', 1005.0)\n",
            "(20, 'Avatar', 2009, 'Sci-Fi', 2847.0)\n",
            "\n",
            "\n",
            "=== Actors ===\n",
            "(16, 'Robert Downey Jr.', 1965)\n",
            "(17, 'Chris Evans', 1981)\n",
            "(18, 'Leonardo DiCaprio', 1974)\n",
            "(19, 'Kate Winslet', 1975)\n",
            "(20, 'Christian Bale', 1974)\n",
            "\n",
            "\n",
            "=== Directors ===\n",
            "(13, 'Anthony Russo', 1970)\n",
            "(14, 'Joe Russo', 1971)\n",
            "(15, 'Christopher Nolan', 1970)\n",
            "(16, 'James Cameron', 1954)\n",
            "\n",
            "\n",
            "=== Movie_Actors ===\n",
            "(1, 1, 'Iron Man')\n",
            "(1, 2, 'Captain America')\n",
            "(2, 3, 'Dom Cobb')\n",
            "(3, 3, 'Jack Dawson')\n",
            "(3, 4, 'Rose DeWitt')\n",
            "(4, 5, 'Bruce Wayne')\n",
            "(5, 3, 'Jake Sully')\n",
            "\n",
            "\n",
            "=== Movie_Directors ===\n",
            "(1, 1)\n",
            "(1, 2)\n",
            "(2, 3)\n",
            "(3, 4)\n",
            "(4, 3)\n",
            "(5, 4)\n",
            "\n",
            "\n"
          ]
        }
      ]
    },
    {
      "cell_type": "code",
      "source": [
        "# Backup File\n",
        "backup_file = \"/content/hollywood_backup.db\"\n",
        "shutil.copyfile(db_file, backup_file)\n",
        "print(f\"Backup created at {backup_file}\")"
      ],
      "metadata": {
        "colab": {
          "base_uri": "https://localhost:8080/"
        },
        "id": "XopRXteFQumg",
        "outputId": "7db4aeed-b2d9-48c5-d887-fed0680abc07"
      },
      "execution_count": 19,
      "outputs": [
        {
          "output_type": "stream",
          "name": "stdout",
          "text": [
            "Backup created at /content/hollywood_backup.db\n"
          ]
        }
      ]
    },
    {
      "cell_type": "code",
      "source": [
        "# Restore File\n",
        "restore_file = \"/content/hollywood_restore.db\"\n",
        "shutil.copyfile(backup_file, restore_file)\n",
        "print(f\"Database restored to {restore_file}\")\n",
        "\n",
        "conn.close()"
      ],
      "metadata": {
        "colab": {
          "base_uri": "https://localhost:8080/"
        },
        "id": "z5WgEZF3Q1Qq",
        "outputId": "5025c172-ced1-43d9-8081-b8077bf291c7"
      },
      "execution_count": 20,
      "outputs": [
        {
          "output_type": "stream",
          "name": "stdout",
          "text": [
            "Database restored to /content/hollywood_restore.db\n"
          ]
        }
      ]
    }
  ]
}